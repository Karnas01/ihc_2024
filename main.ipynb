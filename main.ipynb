{
  "cells": [
    {
      "cell_type": "markdown",
      "metadata": {},
      "source": [
        "#### Imports"
      ]
    },
    {
      "cell_type": "code",
      "execution_count": 5,
      "metadata": {
        "id": "6umXZI0eCfIS"
      },
      "outputs": [],
      "source": [
        "# Telegram Bot\n",
        "import telebot\n",
        "import difflib\n",
        "from telebot.types import InlineKeyboardMarkup, InlineKeyboardButton\n",
        "\n",
        "# Import provisorios\n",
        "from ingressos.ibge import Ibge\n",
        "import time\n",
        "from selenium.webdriver.common.by import By\n",
        "from selenium.webdriver.support.ui import WebDriverWait\n",
        "from selenium.webdriver.support import expected_conditions as EC\n",
        "\n",
        "# Config Driver\n",
        "from config.config_driver import ConfigDriver\n",
        "\n",
        "# Definitions\n",
        "from definitions import *"
      ]
    },
    {
      "cell_type": "markdown",
      "metadata": {},
      "source": [
        "#### Variaveis"
      ]
    },
    {
      "cell_type": "code",
      "execution_count": 6,
      "metadata": {},
      "outputs": [],
      "source": [
        "API_TOKEN = '7135171388:AAExkHE82hR68W21q-KJCsxpJmVU9gtLNPA'\n",
        "bot = telebot.TeleBot(API_TOKEN)\n",
        "\n",
        "brazilian_states = [\"Acre\", \"Alagoas\", \"Amapá\", \"Amazonas\", \"Bahia\", \"Ceará\", \"Distrito Federal\", \n",
        "                    \"Espírito Santo\", \"Goiás\", \"Maranhão\", \"Mato Grosso\", \"Mato Grosso do Sul\", \n",
        "                    \"Minas Gerais\", \"Pará\", \"Paraíba\", \"Paraná\", \"Pernambuco\", \"Piauí\", \n",
        "                    \"Rio de Janeiro\", \"Rio Grande do Norte\", \"Rio Grande do Sul\", \"Rondônia\", \n",
        "                    \"Roraima\", \"Santa Catarina\", \"São Paulo\", \"Sergipe\", \"Tocantins\"]\n",
        "\n",
        "config_driver = ConfigDriver()\n",
        "driver = config_driver.get_driver()\n"
      ]
    },
    {
      "cell_type": "markdown",
      "metadata": {},
      "source": [
        "#### Main"
      ]
    },
    {
      "cell_type": "code",
      "execution_count": 7,
      "metadata": {
        "id": "bBKBLu_HDTOM"
      },
      "outputs": [],
      "source": [
        "@bot.message_handler(func=lambda message: True)\n",
        "def reply_message(message):\n",
        "    #Apenas para cinema\n",
        "    if message.text == \"/start\":\n",
        "        handle_first_contact(message)\n",
        "\n",
        "def handle_first_contact(message):\n",
        "    markup = InlineKeyboardMarkup()\n",
        "    markup.row_width = 2\n",
        "    markup.add(InlineKeyboardButton(\"Cinema\", callback_data=\"cinema\"),\n",
        "               InlineKeyboardButton(\"Filme\", callback_data=\"filme\"))\n",
        "    bot.send_message(message.chat.id, \"Olá, eu sou o bot do Ingresso.com, deseja buscar por:\", reply_markup=markup)\n",
        "\n",
        "#Inicia o processo de busca de cinemas\n",
        "def handle_cinema_markup(message):\n",
        "    # Recebe o estado enviado\n",
        "    state_msg = bot.send_message(message.chat.id, \"Digite o estado do cinema que deseja buscar\")\n",
        "    bot.register_next_step_handler(state_msg, process_state_step)\n",
        "\n",
        "#Processa o estado informado\n",
        "def process_state_step(message):\n",
        "    state = message.text\n",
        "    closest_matches = difflib.get_close_matches(state, brazilian_states, n=1, cutoff=0.6)\n",
        "    if closest_matches:\n",
        "        process_city_step(message, closest_matches[0])\n",
        "    else:\n",
        "        bot.send_message(message.chat.id, \"Nenhum estado correspondente encontrado. Tente novamente.\")\n",
        "        handle_cinema_markup(message)\n",
        "\n",
        "#Processa a cidade informada\n",
        "def process_city_step(message, state):\n",
        "    city_msg = bot.send_message(message.chat.id, \"Agora digite a sua cidade\")\n",
        "    bot.register_next_step_handler(city_msg, lambda msg: process_city_name(msg, state))\n",
        "\n",
        "\n",
        "def process_city_name(message, state):\n",
        "    city = message.text\n",
        "    \n",
        "    # Instancia a classe do Ibge\n",
        "    ibge = Ibge()\n",
        "    \n",
        "    # Obtem o Id do estado\n",
        "    stateId = ibge.estados[state]\n",
        "    \n",
        "    # Obtem as cidades do estado\n",
        "    citys_from_state = ibge.obter_cidades_por_estado(stateId)\n",
        "    \n",
        "    # Verifica se a cidade informada está no estado informado\n",
        "    closest_matches = difflib.get_close_matches(city, citys_from_state, n=1, cutoff=0.6)\n",
        "    \n",
        "    # Se achar a cidade informa os cinemas da cidade\n",
        "    if closest_matches:\n",
        "        city = closest_matches[0]\n",
        "        bot.send_message(message.chat.id, f\"Buscando cinemas em {city}...\")\n",
        "        \n",
        "        formatted_city = city.replace(\" \", \"-\").lower()\n",
        "        \n",
        "        linkWebDriver = f\"https://www.ingresso.com/cinemas?city={formatted_city}\"\n",
        "        \n",
        "        driver.get(linkWebDriver)\n",
        "        \n",
        "        try:\n",
        "            fecharPopup = WebDriverWait(driver, 99).until(\n",
        "                EC.presence_of_element_located((By.CLASS_NAME, \"accept-btn\"))\n",
        "            )\n",
        "            if(fecharPopup.is_displayed()):\n",
        "                fecharPopup.click()\n",
        "        except Exception:\n",
        "            print(\"Popup button not found, continuing without clicking.\")\n",
        "        \n",
        "        cinemas = getCinemasFromCity(city, driver)\n",
        "        bot.send_message(message.chat.id, f\"Cinemas encontrados: {cinemas}\")\n",
        "    # Se não achar ele repete esse passo\n",
        "    else:\n",
        "        bot.send_message(message.chat.id, \"Nenhuma cidade correspondente encontrada. Tente novamente.\")\n",
        "        process_city_step(message, state)\n",
        "    \n",
        "    \n",
        "        \n",
        "def getCinemasFromCity(self, driver):\n",
        "    cinemas = driver.find_elements(By.CSS_SELECTOR, \"h3.text-base.leading-4\")  \n",
        "\n",
        "    for cinema in cinemas:\n",
        "        print(cinema.text)\n",
        "\n",
        "\n",
        "            \n",
        "def getFilmesByCinema(self, driver):\n",
        "    \n",
        "            # Seleciona o primeiro cinema (pode ser ajustado)\n",
        "        cinemaSelecionado = 0\n",
        "        cinema_element = cinemas[cinemaSelecionado].find_element(By.XPATH, '..')\n",
        "\n",
        "        # Rolagem para o cinema selecionado\n",
        "        driver.execute_script(\"arguments[0].scrollIntoView({block: 'center'});\", cinema_element)\n",
        "        time.sleep(1)\n",
        "        \n",
        "        # Espera até que o elemento esteja visível e clicável\n",
        "        WebDriverWait(driver, 10).until(EC.visibility_of(cinema_element))\n",
        "        WebDriverWait(driver, 10).until(EC.element_to_be_clickable(cinema_element))\n",
        "\n",
        "        cinema_element.click()\n",
        "\n",
        "        # Seleciona a data desejada\n",
        "        data = \"15/09\"\n",
        "        diaEscolhidoElemento = driver.find_element(By.XPATH, f\"//span[contains(text(), '{data}')]\")\n",
        "        \n",
        "        driver.execute_script(\"arguments[0].scrollIntoView({block: 'center'});\", diaEscolhidoElemento)\n",
        "        \n",
        "        diaEscolhidoElemento.click()\n",
        "\n",
        "        # Captura os blocos de filmes\n",
        "        blocos_filmes = driver.find_elements(By.CSS_SELECTOR, \"relative my-5\")\n",
        "\n",
        "        # Itera sobre cada bloco para extrair o nome do filme, horários e links\n",
        "        for bloco in blocos_filmes:\n",
        "            # Extrai o nome do filme\n",
        "            nome_filme = bloco.find_element(By.CSS_SELECTOR, \"h3.line-clamp-3 a\").text\n",
        "            \n",
        "            # Extrai os elementos <a> que contêm os horários\n",
        "            horarios_elements = bloco.find_elements(By.CSS_SELECTOR, \"a[href*='sessionId']\")\n",
        "            \n",
        "            # Extrai o horário e o link\n",
        "            horarios = []\n",
        "            for horario_element in horarios_elements:\n",
        "                horario = horario_element.find_element(By.CSS_SELECTOR, \"span\").text  # Extrai o texto do horário\n",
        "                link = horario_element.get_attribute(\"href\")  # Extrai o link\n",
        "                horarios.append((horario, link))  # Adiciona à lista de horários\n",
        "\n",
        "            # Exibe os resultados\n",
        "            print(f\"Nome do Filme: {nome_filme}\")\n",
        "            for horario, link in horarios:\n",
        "                print(f\"Horário: {horario} - Link: {link}\")\n",
        "            print(\"---\")\n",
        "\n",
        "@bot.callback_query_handler(func=lambda call: True)\n",
        "def callback_query(call):\n",
        "    if call.data == \"cinema\":\n",
        "        handle_cinema_markup(call.message)\n",
        "    elif call.data == \"filme\":\n",
        "        bot.send_message(call.message.chat.id, \"Essa função ainda não está disponível\")"
      ]
    },
    {
      "cell_type": "markdown",
      "metadata": {},
      "source": [
        "#### Run Bot"
      ]
    },
    {
      "cell_type": "code",
      "execution_count": 8,
      "metadata": {
        "id": "yV0aZxrhDfzP"
      },
      "outputs": [
        {
          "name": "stdout",
          "output_type": "stream",
          "text": [
            "Cinemark Center Vale\n",
            "Cinemark Colinas\n",
            "Cinépolis Jardim Oriente\n",
            "Kinoplex Diamante\n",
            "Kinoplex Vale Sul\n"
          ]
        },
        {
          "ename": "NoSuchElementException",
          "evalue": "Message: no such element: Unable to locate element: {\"method\":\"xpath\",\"selector\":\"//span[contains(text(), '15/09')]\"}\n  (Session info: MicrosoftEdge=128.0.2739.67); For documentation on this error, please visit: https://www.selenium.dev/documentation/webdriver/troubleshooting/errors#no-such-element-exception\nStacktrace:\n\tGetHandleVerifier [0x00007FF78F983A12+10594]\n\tMicrosoft::Applications::Events::ILogConfiguration::operator* [0x00007FF78F920439+323321]\n\t(No symbol) [0x00007FF78F73F16E]\n\t(No symbol) [0x00007FF78F78656E]\n\t(No symbol) [0x00007FF78F7865F5]\n\t(No symbol) [0x00007FF78F7C4157]\n\t(No symbol) [0x00007FF78F7A7BBF]\n\t(No symbol) [0x00007FF78F77BEDD]\n\t(No symbol) [0x00007FF78F7C1B07]\n\t(No symbol) [0x00007FF78F7A77E3]\n\t(No symbol) [0x00007FF78F77B3EC]\n\t(No symbol) [0x00007FF78F77A8CD]\n\t(No symbol) [0x00007FF78F77AFB1]\n\tMicrosoft::Applications::Events::EventProperty::empty [0x00007FF78FB0E4B4+918756]\n\tMicrosoft::Applications::Events::EventProperty::~EventProperty [0x00007FF78F8AC9BF+54575]\n\tMicrosoft::Applications::Events::EventProperty::~EventProperty [0x00007FF78F89F557+199]\n\tMicrosoft::Applications::Events::EventProperty::empty [0x00007FF78FB0D23D+914029]\n\tMicrosoft::Applications::Events::ILogConfiguration::operator* [0x00007FF78F927EC1+354689]\n\tMicrosoft::Applications::Events::ILogConfiguration::operator* [0x00007FF78F924374+339508]\n\tMicrosoft::Applications::Events::ILogConfiguration::operator* [0x00007FF78F9244A9+339817]\n\tMicrosoft::Applications::Events::ILogConfiguration::operator* [0x00007FF78F91AD6C+301100]\n\tBaseThreadInitThunk [0x00007FFCABC5257D+29]\n\tRtlUserThreadStart [0x00007FFCAD9CAF28+40]\n",
          "output_type": "error",
          "traceback": [
            "\u001b[1;31m---------------------------------------------------------------------------\u001b[0m",
            "\u001b[1;31mNoSuchElementException\u001b[0m                    Traceback (most recent call last)",
            "Cell \u001b[1;32mIn[8], line 1\u001b[0m\n\u001b[1;32m----> 1\u001b[0m \u001b[43mbot\u001b[49m\u001b[38;5;241;43m.\u001b[39;49m\u001b[43mpolling\u001b[49m\u001b[43m(\u001b[49m\u001b[43m)\u001b[49m\n",
            "File \u001b[1;32mc:\\Python312\\Lib\\site-packages\\telebot\\__init__.py:1189\u001b[0m, in \u001b[0;36mTeleBot.polling\u001b[1;34m(self, non_stop, skip_pending, interval, timeout, long_polling_timeout, logger_level, allowed_updates, none_stop, restart_on_change, path_to_watch)\u001b[0m\n\u001b[0;32m   1186\u001b[0m logger\u001b[38;5;241m.\u001b[39minfo(\u001b[38;5;124m'\u001b[39m\u001b[38;5;124mStarting your bot with username: [@\u001b[39m\u001b[38;5;132;01m%s\u001b[39;00m\u001b[38;5;124m]\u001b[39m\u001b[38;5;124m'\u001b[39m, \u001b[38;5;28mself\u001b[39m\u001b[38;5;241m.\u001b[39muser\u001b[38;5;241m.\u001b[39musername)\n\u001b[0;32m   1188\u001b[0m \u001b[38;5;28;01mif\u001b[39;00m \u001b[38;5;28mself\u001b[39m\u001b[38;5;241m.\u001b[39mthreaded:\n\u001b[1;32m-> 1189\u001b[0m     \u001b[38;5;28;43mself\u001b[39;49m\u001b[38;5;241;43m.\u001b[39;49m\u001b[43m__threaded_polling\u001b[49m\u001b[43m(\u001b[49m\u001b[43mnon_stop\u001b[49m\u001b[38;5;241;43m=\u001b[39;49m\u001b[43mnon_stop\u001b[49m\u001b[43m,\u001b[49m\u001b[43m \u001b[49m\u001b[43minterval\u001b[49m\u001b[38;5;241;43m=\u001b[39;49m\u001b[43minterval\u001b[49m\u001b[43m,\u001b[49m\u001b[43m \u001b[49m\u001b[43mtimeout\u001b[49m\u001b[38;5;241;43m=\u001b[39;49m\u001b[43mtimeout\u001b[49m\u001b[43m,\u001b[49m\u001b[43m \u001b[49m\u001b[43mlong_polling_timeout\u001b[49m\u001b[38;5;241;43m=\u001b[39;49m\u001b[43mlong_polling_timeout\u001b[49m\u001b[43m,\u001b[49m\n\u001b[0;32m   1190\u001b[0m \u001b[43m                            \u001b[49m\u001b[43mlogger_level\u001b[49m\u001b[38;5;241;43m=\u001b[39;49m\u001b[43mlogger_level\u001b[49m\u001b[43m,\u001b[49m\u001b[43m \u001b[49m\u001b[43mallowed_updates\u001b[49m\u001b[38;5;241;43m=\u001b[39;49m\u001b[43mallowed_updates\u001b[49m\u001b[43m)\u001b[49m\n\u001b[0;32m   1191\u001b[0m \u001b[38;5;28;01melse\u001b[39;00m:\n\u001b[0;32m   1192\u001b[0m     \u001b[38;5;28mself\u001b[39m\u001b[38;5;241m.\u001b[39m__non_threaded_polling(non_stop\u001b[38;5;241m=\u001b[39mnon_stop, interval\u001b[38;5;241m=\u001b[39minterval, timeout\u001b[38;5;241m=\u001b[39mtimeout, long_polling_timeout\u001b[38;5;241m=\u001b[39mlong_polling_timeout,\n\u001b[0;32m   1193\u001b[0m                                 logger_level\u001b[38;5;241m=\u001b[39mlogger_level, allowed_updates\u001b[38;5;241m=\u001b[39mallowed_updates)\n",
            "File \u001b[1;32mc:\\Python312\\Lib\\site-packages\\telebot\\__init__.py:1264\u001b[0m, in \u001b[0;36mTeleBot.__threaded_polling\u001b[1;34m(self, non_stop, interval, timeout, long_polling_timeout, logger_level, allowed_updates)\u001b[0m\n\u001b[0;32m   1262\u001b[0m     polling_thread\u001b[38;5;241m.\u001b[39mclear_exceptions()   \u001b[38;5;66;03m#*\u001b[39;00m\n\u001b[0;32m   1263\u001b[0m     \u001b[38;5;28mself\u001b[39m\u001b[38;5;241m.\u001b[39mworker_pool\u001b[38;5;241m.\u001b[39mclear_exceptions() \u001b[38;5;66;03m#*\u001b[39;00m\n\u001b[1;32m-> 1264\u001b[0m     \u001b[38;5;28;01mraise\u001b[39;00m e\n\u001b[0;32m   1265\u001b[0m \u001b[38;5;28;01melse\u001b[39;00m:\n\u001b[0;32m   1266\u001b[0m     polling_thread\u001b[38;5;241m.\u001b[39mclear_exceptions()\n",
            "File \u001b[1;32mc:\\Python312\\Lib\\site-packages\\telebot\\__init__.py:1226\u001b[0m, in \u001b[0;36mTeleBot.__threaded_polling\u001b[1;34m(self, non_stop, interval, timeout, long_polling_timeout, logger_level, allowed_updates)\u001b[0m\n\u001b[0;32m   1224\u001b[0m     or_event\u001b[38;5;241m.\u001b[39mwait()  \u001b[38;5;66;03m# wait for polling thread finish, polling thread error or thread pool error\u001b[39;00m\n\u001b[0;32m   1225\u001b[0m     polling_thread\u001b[38;5;241m.\u001b[39mraise_exceptions()\n\u001b[1;32m-> 1226\u001b[0m     \u001b[38;5;28;43mself\u001b[39;49m\u001b[38;5;241;43m.\u001b[39;49m\u001b[43mworker_pool\u001b[49m\u001b[38;5;241;43m.\u001b[39;49m\u001b[43mraise_exceptions\u001b[49m\u001b[43m(\u001b[49m\u001b[43m)\u001b[49m\n\u001b[0;32m   1227\u001b[0m     error_interval \u001b[38;5;241m=\u001b[39m \u001b[38;5;241m0.25\u001b[39m\n\u001b[0;32m   1228\u001b[0m \u001b[38;5;28;01mexcept\u001b[39;00m apihelper\u001b[38;5;241m.\u001b[39mApiException \u001b[38;5;28;01mas\u001b[39;00m e:\n",
            "File \u001b[1;32mc:\\Python312\\Lib\\site-packages\\telebot\\util.py:150\u001b[0m, in \u001b[0;36mThreadPool.raise_exceptions\u001b[1;34m(self)\u001b[0m\n\u001b[0;32m    148\u001b[0m \u001b[38;5;28;01mdef\u001b[39;00m \u001b[38;5;21mraise_exceptions\u001b[39m(\u001b[38;5;28mself\u001b[39m):\n\u001b[0;32m    149\u001b[0m     \u001b[38;5;28;01mif\u001b[39;00m \u001b[38;5;28mself\u001b[39m\u001b[38;5;241m.\u001b[39mexception_event\u001b[38;5;241m.\u001b[39mis_set():\n\u001b[1;32m--> 150\u001b[0m         \u001b[38;5;28;01mraise\u001b[39;00m \u001b[38;5;28mself\u001b[39m\u001b[38;5;241m.\u001b[39mexception_info\n",
            "File \u001b[1;32mc:\\Python312\\Lib\\site-packages\\telebot\\util.py:93\u001b[0m, in \u001b[0;36mWorkerThread.run\u001b[1;34m(self)\u001b[0m\n\u001b[0;32m     90\u001b[0m logger\u001b[38;5;241m.\u001b[39mdebug(\u001b[38;5;124m\"\u001b[39m\u001b[38;5;124mReceived task\u001b[39m\u001b[38;5;124m\"\u001b[39m)\n\u001b[0;32m     91\u001b[0m \u001b[38;5;28mself\u001b[39m\u001b[38;5;241m.\u001b[39mreceived_task_event\u001b[38;5;241m.\u001b[39mset()\n\u001b[1;32m---> 93\u001b[0m \u001b[43mtask\u001b[49m\u001b[43m(\u001b[49m\u001b[38;5;241;43m*\u001b[39;49m\u001b[43margs\u001b[49m\u001b[43m,\u001b[49m\u001b[43m \u001b[49m\u001b[38;5;241;43m*\u001b[39;49m\u001b[38;5;241;43m*\u001b[39;49m\u001b[43mkwargs\u001b[49m\u001b[43m)\u001b[49m\n\u001b[0;32m     94\u001b[0m logger\u001b[38;5;241m.\u001b[39mdebug(\u001b[38;5;124m\"\u001b[39m\u001b[38;5;124mTask complete\u001b[39m\u001b[38;5;124m\"\u001b[39m)\n\u001b[0;32m     95\u001b[0m \u001b[38;5;28mself\u001b[39m\u001b[38;5;241m.\u001b[39mdone_event\u001b[38;5;241m.\u001b[39mset()\n",
            "Cell \u001b[1;32mIn[7], line 33\u001b[0m, in \u001b[0;36mprocess_city_step.<locals>.<lambda>\u001b[1;34m(msg)\u001b[0m\n\u001b[0;32m     31\u001b[0m \u001b[38;5;28;01mdef\u001b[39;00m \u001b[38;5;21mprocess_city_step\u001b[39m(message, state):\n\u001b[0;32m     32\u001b[0m     city_msg \u001b[38;5;241m=\u001b[39m bot\u001b[38;5;241m.\u001b[39msend_message(message\u001b[38;5;241m.\u001b[39mchat\u001b[38;5;241m.\u001b[39mid, \u001b[38;5;124m\"\u001b[39m\u001b[38;5;124mAgora digite a sua cidade\u001b[39m\u001b[38;5;124m\"\u001b[39m)\n\u001b[1;32m---> 33\u001b[0m     bot\u001b[38;5;241m.\u001b[39mregister_next_step_handler(city_msg, \u001b[38;5;28;01mlambda\u001b[39;00m msg: \u001b[43mprocess_city_name\u001b[49m\u001b[43m(\u001b[49m\u001b[43mmsg\u001b[49m\u001b[43m,\u001b[49m\u001b[43m \u001b[49m\u001b[43mstate\u001b[49m\u001b[43m)\u001b[49m)\n",
            "Cell \u001b[1;32mIn[7], line 71\u001b[0m, in \u001b[0;36mprocess_city_name\u001b[1;34m(message, state)\u001b[0m\n\u001b[0;32m     68\u001b[0m     \u001b[38;5;28;01mexcept\u001b[39;00m \u001b[38;5;167;01mException\u001b[39;00m:\n\u001b[0;32m     69\u001b[0m         \u001b[38;5;28mprint\u001b[39m(\u001b[38;5;124m\"\u001b[39m\u001b[38;5;124mPopup button not found, continuing without clicking.\u001b[39m\u001b[38;5;124m\"\u001b[39m)\n\u001b[1;32m---> 71\u001b[0m     cinemas \u001b[38;5;241m=\u001b[39m \u001b[43mgetCinemasFromCity\u001b[49m\u001b[43m(\u001b[49m\u001b[43mcity\u001b[49m\u001b[43m,\u001b[49m\u001b[43m \u001b[49m\u001b[43mdriver\u001b[49m\u001b[43m)\u001b[49m\n\u001b[0;32m     72\u001b[0m     bot\u001b[38;5;241m.\u001b[39msend_message(message\u001b[38;5;241m.\u001b[39mchat\u001b[38;5;241m.\u001b[39mid, \u001b[38;5;124mf\u001b[39m\u001b[38;5;124m\"\u001b[39m\u001b[38;5;124mCinemas encontrados: \u001b[39m\u001b[38;5;132;01m{\u001b[39;00mcinemas\u001b[38;5;132;01m}\u001b[39;00m\u001b[38;5;124m\"\u001b[39m)\n\u001b[0;32m     73\u001b[0m \u001b[38;5;66;03m# Se não achar ele repete esse passo\u001b[39;00m\n\u001b[0;32m     74\u001b[0m \u001b[38;5;28;01melse\u001b[39;00m:\n",
            "Cell \u001b[1;32mIn[7], line 103\u001b[0m, in \u001b[0;36mgetCinemasFromCity\u001b[1;34m(self, driver)\u001b[0m\n\u001b[0;32m    101\u001b[0m \u001b[38;5;66;03m# Seleciona a data desejada\u001b[39;00m\n\u001b[0;32m    102\u001b[0m data \u001b[38;5;241m=\u001b[39m \u001b[38;5;124m\"\u001b[39m\u001b[38;5;124m15/09\u001b[39m\u001b[38;5;124m\"\u001b[39m\n\u001b[1;32m--> 103\u001b[0m diaEscolhidoElemento \u001b[38;5;241m=\u001b[39m \u001b[43mdriver\u001b[49m\u001b[38;5;241;43m.\u001b[39;49m\u001b[43mfind_element\u001b[49m\u001b[43m(\u001b[49m\u001b[43mBy\u001b[49m\u001b[38;5;241;43m.\u001b[39;49m\u001b[43mXPATH\u001b[49m\u001b[43m,\u001b[49m\u001b[43m \u001b[49m\u001b[38;5;124;43mf\u001b[39;49m\u001b[38;5;124;43m\"\u001b[39;49m\u001b[38;5;124;43m//span[contains(text(), \u001b[39;49m\u001b[38;5;124;43m'\u001b[39;49m\u001b[38;5;132;43;01m{\u001b[39;49;00m\u001b[43mdata\u001b[49m\u001b[38;5;132;43;01m}\u001b[39;49;00m\u001b[38;5;124;43m'\u001b[39;49m\u001b[38;5;124;43m)]\u001b[39;49m\u001b[38;5;124;43m\"\u001b[39;49m\u001b[43m)\u001b[49m\n\u001b[0;32m    105\u001b[0m driver\u001b[38;5;241m.\u001b[39mexecute_script(\u001b[38;5;124m\"\u001b[39m\u001b[38;5;124marguments[0].scrollIntoView(\u001b[39m\u001b[38;5;124m{\u001b[39m\u001b[38;5;124mblock: \u001b[39m\u001b[38;5;124m'\u001b[39m\u001b[38;5;124mcenter\u001b[39m\u001b[38;5;124m'\u001b[39m\u001b[38;5;124m});\u001b[39m\u001b[38;5;124m\"\u001b[39m, diaEscolhidoElemento)\n\u001b[0;32m    107\u001b[0m diaEscolhidoElemento\u001b[38;5;241m.\u001b[39mclick()\n",
            "File \u001b[1;32mc:\\Python312\\Lib\\site-packages\\selenium\\webdriver\\remote\\webdriver.py:748\u001b[0m, in \u001b[0;36mWebDriver.find_element\u001b[1;34m(self, by, value)\u001b[0m\n\u001b[0;32m    745\u001b[0m     by \u001b[38;5;241m=\u001b[39m By\u001b[38;5;241m.\u001b[39mCSS_SELECTOR\n\u001b[0;32m    746\u001b[0m     value \u001b[38;5;241m=\u001b[39m \u001b[38;5;124mf\u001b[39m\u001b[38;5;124m'\u001b[39m\u001b[38;5;124m[name=\u001b[39m\u001b[38;5;124m\"\u001b[39m\u001b[38;5;132;01m{\u001b[39;00mvalue\u001b[38;5;132;01m}\u001b[39;00m\u001b[38;5;124m\"\u001b[39m\u001b[38;5;124m]\u001b[39m\u001b[38;5;124m'\u001b[39m\n\u001b[1;32m--> 748\u001b[0m \u001b[38;5;28;01mreturn\u001b[39;00m \u001b[38;5;28;43mself\u001b[39;49m\u001b[38;5;241;43m.\u001b[39;49m\u001b[43mexecute\u001b[49m\u001b[43m(\u001b[49m\u001b[43mCommand\u001b[49m\u001b[38;5;241;43m.\u001b[39;49m\u001b[43mFIND_ELEMENT\u001b[49m\u001b[43m,\u001b[49m\u001b[43m \u001b[49m\u001b[43m{\u001b[49m\u001b[38;5;124;43m\"\u001b[39;49m\u001b[38;5;124;43musing\u001b[39;49m\u001b[38;5;124;43m\"\u001b[39;49m\u001b[43m:\u001b[49m\u001b[43m \u001b[49m\u001b[43mby\u001b[49m\u001b[43m,\u001b[49m\u001b[43m \u001b[49m\u001b[38;5;124;43m\"\u001b[39;49m\u001b[38;5;124;43mvalue\u001b[39;49m\u001b[38;5;124;43m\"\u001b[39;49m\u001b[43m:\u001b[49m\u001b[43m \u001b[49m\u001b[43mvalue\u001b[49m\u001b[43m}\u001b[49m\u001b[43m)\u001b[49m[\u001b[38;5;124m\"\u001b[39m\u001b[38;5;124mvalue\u001b[39m\u001b[38;5;124m\"\u001b[39m]\n",
            "File \u001b[1;32mc:\\Python312\\Lib\\site-packages\\selenium\\webdriver\\remote\\webdriver.py:354\u001b[0m, in \u001b[0;36mWebDriver.execute\u001b[1;34m(self, driver_command, params)\u001b[0m\n\u001b[0;32m    352\u001b[0m response \u001b[38;5;241m=\u001b[39m \u001b[38;5;28mself\u001b[39m\u001b[38;5;241m.\u001b[39mcommand_executor\u001b[38;5;241m.\u001b[39mexecute(driver_command, params)\n\u001b[0;32m    353\u001b[0m \u001b[38;5;28;01mif\u001b[39;00m response:\n\u001b[1;32m--> 354\u001b[0m     \u001b[38;5;28;43mself\u001b[39;49m\u001b[38;5;241;43m.\u001b[39;49m\u001b[43merror_handler\u001b[49m\u001b[38;5;241;43m.\u001b[39;49m\u001b[43mcheck_response\u001b[49m\u001b[43m(\u001b[49m\u001b[43mresponse\u001b[49m\u001b[43m)\u001b[49m\n\u001b[0;32m    355\u001b[0m     response[\u001b[38;5;124m\"\u001b[39m\u001b[38;5;124mvalue\u001b[39m\u001b[38;5;124m\"\u001b[39m] \u001b[38;5;241m=\u001b[39m \u001b[38;5;28mself\u001b[39m\u001b[38;5;241m.\u001b[39m_unwrap_value(response\u001b[38;5;241m.\u001b[39mget(\u001b[38;5;124m\"\u001b[39m\u001b[38;5;124mvalue\u001b[39m\u001b[38;5;124m\"\u001b[39m, \u001b[38;5;28;01mNone\u001b[39;00m))\n\u001b[0;32m    356\u001b[0m     \u001b[38;5;28;01mreturn\u001b[39;00m response\n",
            "File \u001b[1;32mc:\\Python312\\Lib\\site-packages\\selenium\\webdriver\\remote\\errorhandler.py:229\u001b[0m, in \u001b[0;36mErrorHandler.check_response\u001b[1;34m(self, response)\u001b[0m\n\u001b[0;32m    227\u001b[0m         alert_text \u001b[38;5;241m=\u001b[39m value[\u001b[38;5;124m\"\u001b[39m\u001b[38;5;124malert\u001b[39m\u001b[38;5;124m\"\u001b[39m]\u001b[38;5;241m.\u001b[39mget(\u001b[38;5;124m\"\u001b[39m\u001b[38;5;124mtext\u001b[39m\u001b[38;5;124m\"\u001b[39m)\n\u001b[0;32m    228\u001b[0m     \u001b[38;5;28;01mraise\u001b[39;00m exception_class(message, screen, stacktrace, alert_text)  \u001b[38;5;66;03m# type: ignore[call-arg]  # mypy is not smart enough here\u001b[39;00m\n\u001b[1;32m--> 229\u001b[0m \u001b[38;5;28;01mraise\u001b[39;00m exception_class(message, screen, stacktrace)\n",
            "\u001b[1;31mNoSuchElementException\u001b[0m: Message: no such element: Unable to locate element: {\"method\":\"xpath\",\"selector\":\"//span[contains(text(), '15/09')]\"}\n  (Session info: MicrosoftEdge=128.0.2739.67); For documentation on this error, please visit: https://www.selenium.dev/documentation/webdriver/troubleshooting/errors#no-such-element-exception\nStacktrace:\n\tGetHandleVerifier [0x00007FF78F983A12+10594]\n\tMicrosoft::Applications::Events::ILogConfiguration::operator* [0x00007FF78F920439+323321]\n\t(No symbol) [0x00007FF78F73F16E]\n\t(No symbol) [0x00007FF78F78656E]\n\t(No symbol) [0x00007FF78F7865F5]\n\t(No symbol) [0x00007FF78F7C4157]\n\t(No symbol) [0x00007FF78F7A7BBF]\n\t(No symbol) [0x00007FF78F77BEDD]\n\t(No symbol) [0x00007FF78F7C1B07]\n\t(No symbol) [0x00007FF78F7A77E3]\n\t(No symbol) [0x00007FF78F77B3EC]\n\t(No symbol) [0x00007FF78F77A8CD]\n\t(No symbol) [0x00007FF78F77AFB1]\n\tMicrosoft::Applications::Events::EventProperty::empty [0x00007FF78FB0E4B4+918756]\n\tMicrosoft::Applications::Events::EventProperty::~EventProperty [0x00007FF78F8AC9BF+54575]\n\tMicrosoft::Applications::Events::EventProperty::~EventProperty [0x00007FF78F89F557+199]\n\tMicrosoft::Applications::Events::EventProperty::empty [0x00007FF78FB0D23D+914029]\n\tMicrosoft::Applications::Events::ILogConfiguration::operator* [0x00007FF78F927EC1+354689]\n\tMicrosoft::Applications::Events::ILogConfiguration::operator* [0x00007FF78F924374+339508]\n\tMicrosoft::Applications::Events::ILogConfiguration::operator* [0x00007FF78F9244A9+339817]\n\tMicrosoft::Applications::Events::ILogConfiguration::operator* [0x00007FF78F91AD6C+301100]\n\tBaseThreadInitThunk [0x00007FFCABC5257D+29]\n\tRtlUserThreadStart [0x00007FFCAD9CAF28+40]\n"
          ]
        }
      ],
      "source": [
        "bot.polling()"
      ]
    }
  ],
  "metadata": {
    "colab": {
      "provenance": []
    },
    "kernelspec": {
      "display_name": "Python 3",
      "name": "python3"
    },
    "language_info": {
      "codemirror_mode": {
        "name": "ipython",
        "version": 3
      },
      "file_extension": ".py",
      "mimetype": "text/x-python",
      "name": "python",
      "nbconvert_exporter": "python",
      "pygments_lexer": "ipython3",
      "version": "3.12.4"
    }
  },
  "nbformat": 4,
  "nbformat_minor": 0
}
